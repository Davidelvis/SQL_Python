{
  "nbformat": 4,
  "nbformat_minor": 0,
  "metadata": {
    "kernelspec": {
      "display_name": "Python 3",
      "language": "python",
      "name": "python3"
    },
    "language_info": {
      "codemirror_mode": {
        "name": "ipython",
        "version": 3
      },
      "file_extension": ".py",
      "mimetype": "text/x-python",
      "name": "python",
      "nbconvert_exporter": "python",
      "pygments_lexer": "ipython3",
      "version": "3.7.6"
    },
    "colab": {
      "name": "SQL_DATA_ANALYSIS_TASK.ipynb",
      "provenance": []
    }
  },
  "cells": [
    {
      "cell_type": "markdown",
      "metadata": {
        "id": "3FONeQ-eVSR6",
        "colab_type": "text"
      },
      "source": [
        "# SQL DATA ANALYSIS TASK"
      ]
    },
    {
      "cell_type": "markdown",
      "metadata": {
        "id": "6e8vMayGVSR7",
        "colab_type": "text"
      },
      "source": [
        "# Context\n",
        "Fenix is a company that is in renewable energy. To this end, it sells solar kits to populations who are in need. Customers have the option of paying for the kit in cash or on credit. If the customer chooses to buy on credit, he can choose between one year (360 days) or two years (720). He is then asked to pay an amount per day (daily_rate), this amount depending on the duration of the loan and the type of kit he has chosen and corresponds to a day of light. So every time he pays that amount, he has a day of light. After 24 hours the system hangs and it has to make another payment to take advantage of the light. He can decide to pay for more than one day of light. The day number is then the whole part of the amount / daily rate ratio. After this number of days, the system still locks. When a customer spends more than 30 days without light, he is considered inactive. Paid vs Expected (PvE) means the ratio between the total amount paid by the client and the amount he should have paid up to date. It allows to appreciate the recovery."
      ]
    },
    {
      "cell_type": "markdown",
      "metadata": {
        "id": "EebB7HHvVSR8",
        "colab_type": "text"
      },
      "source": [
        "Let's consider the following tables\n",
        "\n",
        "Loan_current_daitails\n",
        "\n",
        "loan_id\t|customer_id|daily_rate|days_elapsed|Days_til_lock_out|Total_paid\n",
        "--------|-----------|----------|------------|-----------------|----------\n",
        "loan_id_1|customer_id_1|daily_rate_1|days_elapsed_1|Days_til_lock_out_1|Total_paid_1\n",
        "loan_id_2|customer_id_2|daily_rate_2|days_elapsed_2|Days_til_lock_out_2|Total_paid_2\n",
        ".........|.............|............|..............|...................|............\n",
        "loan_id_n|customer_id_n\t|daily_rate_n|days_elapsed_n|Days_til_lock_out_n|Total_paid_n\n",
        "\n",
        "\n",
        "Person_democraphic\n",
        "\n",
        "customer_id\t|country|\tregion|\tprofession\n",
        "------------|-------|---------|-----------\n",
        "customer_id_1|\tCountry_1\t|Region_1\t|profession_1\n",
        ".............|\t............|..........\t|............\n",
        "customer_id_j|\tCountry_j|\tRegion_j\t|profession_j\n",
        "\n",
        "\n",
        "Sales_details\n",
        "\n",
        "loan_id\t|Product_type\t|Date_fullfiled\t|loan_duration\n",
        "--------|----------------|--------------|-------------\n",
        "loan_id_1\t|Product_type_1\t|Date_fullfiled_1\t|loan_duration_1\n",
        "...|\t...\t|...\t|...\n",
        "loan_id_n|\tProduct_type_n|\tDate_fullfiled_n|\tloan_duration_n"
      ]
    },
    {
      "cell_type": "markdown",
      "metadata": {
        "id": "P46JkRNrVSR9",
        "colab_type": "text"
      },
      "source": [
        "### Tables description\n",
        "\n",
        "* **Loan_id:** unique loan identifier\n",
        "\n",
        "* **Customer_id:** unique customer identifier\n",
        "\n",
        "* **Days_elapsed:** the number of days the client spends with us\n",
        "\n",
        "* **Daily_rate:** expected amount from customer per day\n",
        "\n",
        "* **Days_til_lock_out:** If positive, then corresponds to the number of days of light remaining before the system hangs. If negative, corresponds to the number of days since the system was blocked (the client has been without light since this number of days)\n",
        "\n",
        "* **Total_paid:** total amount to be paid by the customer\n",
        "\n",
        "* **Country:** Customer's country\n",
        "\n",
        "* **Region:** customer department\n",
        "\n",
        "* **Profession:** client's profession\n",
        "\n",
        "* **Product_type:** the type of kit purchased by the customer\n",
        "\n",
        "* **Loan_duration:** the duration of the customer's loan (360 or 720 days)\n",
        "\n",
        "* **Date_fullfiled:** the date of the sale"
      ]
    },
    {
      "cell_type": "markdown",
      "metadata": {
        "id": "ZnQ1jKJdVSR9",
        "colab_type": "text"
      },
      "source": [
        "### The datasets\n",
        "The datasets exist in csv formats and can be downloaded and saved on disk"
      ]
    },
    {
      "cell_type": "code",
      "metadata": {
        "id": "RX7KzOSuVnld",
        "colab_type": "code",
        "colab": {}
      },
      "source": [
        "from google.colab import drive\n",
        "drive.mount('/content/drive')"
      ],
      "execution_count": null,
      "outputs": []
    },
    {
      "cell_type": "code",
      "metadata": {
        "id": "kZNCvR_yYKbM",
        "colab_type": "code",
        "colab": {
          "base_uri": "https://localhost:8080/",
          "height": 307
        },
        "outputId": "f45cfbeb-3e19-4a79-8bca-2008b2d5dc53"
      },
      "source": [
        "!pip install ipython-sql"
      ],
      "execution_count": 10,
      "outputs": [
        {
          "output_type": "stream",
          "text": [
            "Requirement already satisfied: ipython-sql in /usr/local/lib/python3.6/dist-packages (0.3.9)\n",
            "Requirement already satisfied: ipython>=1.0 in /usr/local/lib/python3.6/dist-packages (from ipython-sql) (5.5.0)\n",
            "Requirement already satisfied: ipython-genutils>=0.1.0 in /usr/local/lib/python3.6/dist-packages (from ipython-sql) (0.2.0)\n",
            "Requirement already satisfied: six in /usr/local/lib/python3.6/dist-packages (from ipython-sql) (1.15.0)\n",
            "Requirement already satisfied: prettytable in /usr/local/lib/python3.6/dist-packages (from ipython-sql) (0.7.2)\n",
            "Requirement already satisfied: sqlalchemy>=0.6.7 in /usr/local/lib/python3.6/dist-packages (from ipython-sql) (1.3.19)\n",
            "Requirement already satisfied: sqlparse in /usr/local/lib/python3.6/dist-packages (from ipython-sql) (0.3.1)\n",
            "Requirement already satisfied: setuptools>=18.5 in /usr/local/lib/python3.6/dist-packages (from ipython>=1.0->ipython-sql) (50.3.0)\n",
            "Requirement already satisfied: decorator in /usr/local/lib/python3.6/dist-packages (from ipython>=1.0->ipython-sql) (4.4.2)\n",
            "Requirement already satisfied: traitlets>=4.2 in /usr/local/lib/python3.6/dist-packages (from ipython>=1.0->ipython-sql) (4.3.3)\n",
            "Requirement already satisfied: pickleshare in /usr/local/lib/python3.6/dist-packages (from ipython>=1.0->ipython-sql) (0.7.5)\n",
            "Requirement already satisfied: pygments in /usr/local/lib/python3.6/dist-packages (from ipython>=1.0->ipython-sql) (2.6.1)\n",
            "Requirement already satisfied: simplegeneric>0.8 in /usr/local/lib/python3.6/dist-packages (from ipython>=1.0->ipython-sql) (0.8.1)\n",
            "Requirement already satisfied: pexpect; sys_platform != \"win32\" in /usr/local/lib/python3.6/dist-packages (from ipython>=1.0->ipython-sql) (4.8.0)\n",
            "Requirement already satisfied: prompt-toolkit<2.0.0,>=1.0.4 in /usr/local/lib/python3.6/dist-packages (from ipython>=1.0->ipython-sql) (1.0.18)\n",
            "Requirement already satisfied: ptyprocess>=0.5 in /usr/local/lib/python3.6/dist-packages (from pexpect; sys_platform != \"win32\"->ipython>=1.0->ipython-sql) (0.6.0)\n",
            "Requirement already satisfied: wcwidth in /usr/local/lib/python3.6/dist-packages (from prompt-toolkit<2.0.0,>=1.0.4->ipython>=1.0->ipython-sql) (0.2.5)\n"
          ],
          "name": "stdout"
        }
      ]
    },
    {
      "cell_type": "code",
      "metadata": {
        "id": "upkC9K7eVSR-",
        "colab_type": "code",
        "colab": {
          "base_uri": "https://localhost:8080/",
          "height": 35
        },
        "outputId": "0d749957-efde-4008-d7c7-434228f40a6e"
      },
      "source": [
        "%load_ext sql\n",
        "%sql sqlite:///testdb.sqlite"
      ],
      "execution_count": 1,
      "outputs": [
        {
          "output_type": "execute_result",
          "data": {
            "application/vnd.google.colaboratory.intrinsic+json": {
              "type": "string"
            },
            "text/plain": [
              "'Connected: @testdb.sqlite'"
            ]
          },
          "metadata": {
            "tags": []
          },
          "execution_count": 1
        }
      ]
    },
    {
      "cell_type": "code",
      "metadata": {
        "id": "sf9h3w39VSSA",
        "colab_type": "code",
        "colab": {
          "base_uri": "https://localhost:8080/",
          "height": 102
        },
        "outputId": "7b647877-1bda-4889-ea27-bf64c6ced130"
      },
      "source": [
        "%%sql\n",
        "DROP TABLE IF EXISTS Loan_current_daitails;\n",
        "DROP TABLE IF EXISTS Person_democraphic;\n",
        "DROP TABLE IF EXISTS Sales_details;"
      ],
      "execution_count": 2,
      "outputs": [
        {
          "output_type": "stream",
          "text": [
            " * sqlite:///testdb.sqlite\n",
            "Done.\n",
            "Done.\n",
            "Done.\n"
          ],
          "name": "stdout"
        },
        {
          "output_type": "execute_result",
          "data": {
            "text/plain": [
              "[]"
            ]
          },
          "metadata": {
            "tags": []
          },
          "execution_count": 2
        }
      ]
    },
    {
      "cell_type": "code",
      "metadata": {
        "id": "i88EQg6XVSSD",
        "colab_type": "code",
        "colab": {}
      },
      "source": [
        "import pandas as pd\n",
        "import sqlite3\n",
        "\n",
        "conn = sqlite3.connect(\"testdb.sqlite\")\n",
        "loans = pd.read_csv('/content/Loan_current_daitails.csv')\n",
        "persons = pd.read_csv('/content/Person_democraphic.csv')\n",
        "sales = pd.read_csv('/content/Sales_details.csv')\n",
        "\n",
        "loans.to_sql(\"loans\", conn, index=False, if_exists=\"replace\")\n",
        "persons.to_sql(\"persons\", conn, index=False, if_exists=\"replace\")\n",
        "sales.to_sql(\"sales\", conn, index=False, if_exists=\"replace\")"
      ],
      "execution_count": null,
      "outputs": []
    },
    {
      "cell_type": "code",
      "metadata": {
        "id": "HCrSadFJY1HE",
        "colab_type": "code",
        "colab": {
          "base_uri": "https://localhost:8080/",
          "height": 161
        },
        "outputId": "465f17be-2b6a-4ec5-e2a6-1ea7ed621bef"
      },
      "source": [
        "\n",
        "%%sql\n",
        "\n",
        "select * from persons limit 5\n"
      ],
      "execution_count": 11,
      "outputs": [
        {
          "output_type": "stream",
          "text": [
            " * sqlite:///testdb.sqlite\n",
            "Done.\n"
          ],
          "name": "stdout"
        },
        {
          "output_type": "execute_result",
          "data": {
            "text/html": [
              "<table>\n",
              "    <tr>\n",
              "        <th>customer_id</th>\n",
              "        <th>country</th>\n",
              "        <th>region</th>\n",
              "        <th>Profession </th>\n",
              "        <th>Unnamed: 4</th>\n",
              "        <th>Unnamed: 5</th>\n",
              "        <th>Unnamed: 6</th>\n",
              "        <th>Unnamed: 7</th>\n",
              "    </tr>\n",
              "    <tr>\n",
              "        <td>1351176</td>\n",
              "        <td>Benin</td>\n",
              "        <td>Oueme</td>\n",
              "        <td>Tehnician</td>\n",
              "        <td>None</td>\n",
              "        <td>None</td>\n",
              "        <td>None</td>\n",
              "        <td>None</td>\n",
              "    </tr>\n",
              "    <tr>\n",
              "        <td>1344957</td>\n",
              "        <td>Benin</td>\n",
              "        <td>Alibori</td>\n",
              "        <td>Doctor</td>\n",
              "        <td>None</td>\n",
              "        <td>None</td>\n",
              "        <td>None</td>\n",
              "        <td>None</td>\n",
              "    </tr>\n",
              "    <tr>\n",
              "        <td>1794153</td>\n",
              "        <td>Benin</td>\n",
              "        <td>Oueme</td>\n",
              "        <td>Teacher</td>\n",
              "        <td>None</td>\n",
              "        <td>None</td>\n",
              "        <td>None</td>\n",
              "        <td>None</td>\n",
              "    </tr>\n",
              "    <tr>\n",
              "        <td>1291070</td>\n",
              "        <td>Benin</td>\n",
              "        <td>Atlantique</td>\n",
              "        <td>Tehnician</td>\n",
              "        <td>None</td>\n",
              "        <td>None</td>\n",
              "        <td>None</td>\n",
              "        <td>None</td>\n",
              "    </tr>\n",
              "    <tr>\n",
              "        <td>1827368</td>\n",
              "        <td>Benin</td>\n",
              "        <td>Oueme</td>\n",
              "        <td>Cmmercial</td>\n",
              "        <td>None</td>\n",
              "        <td>None</td>\n",
              "        <td>None</td>\n",
              "        <td>None</td>\n",
              "    </tr>\n",
              "</table>"
            ],
            "text/plain": [
              "[(1351176, 'Benin', 'Oueme', 'Tehnician', None, None, None, None),\n",
              " (1344957, 'Benin', 'Alibori', 'Doctor', None, None, None, None),\n",
              " (1794153, 'Benin', 'Oueme', 'Teacher', None, None, None, None),\n",
              " (1291070, 'Benin', 'Atlantique', 'Tehnician', None, None, None, None),\n",
              " (1827368, 'Benin', 'Oueme', 'Cmmercial', None, None, None, None)]"
            ]
          },
          "metadata": {
            "tags": []
          },
          "execution_count": 11
        }
      ]
    },
    {
      "cell_type": "code",
      "metadata": {
        "id": "h3ShEI_HY3Vn",
        "colab_type": "code",
        "colab": {
          "base_uri": "https://localhost:8080/",
          "height": 161
        },
        "outputId": "a9e053ce-02e0-4f05-921b-e2bd3a0a29a1"
      },
      "source": [
        "%%sql\n",
        "\n",
        "select * from sales limit 5"
      ],
      "execution_count": 12,
      "outputs": [
        {
          "output_type": "stream",
          "text": [
            " * sqlite:///testdb.sqlite\n",
            "Done.\n"
          ],
          "name": "stdout"
        },
        {
          "output_type": "execute_result",
          "data": {
            "text/html": [
              "<table>\n",
              "    <tr>\n",
              "        <th>loan_id</th>\n",
              "        <th>product_type</th>\n",
              "        <th>date_fulfilled_utc</th>\n",
              "        <th>Unnamed: 3</th>\n",
              "        <th>Unnamed: 4</th>\n",
              "        <th>Unnamed: 5</th>\n",
              "        <th>Unnamed: 6</th>\n",
              "    </tr>\n",
              "    <tr>\n",
              "        <td>589556</td>\n",
              "        <td>Fenix 3</td>\n",
              "        <td>6/5/19 10:45</td>\n",
              "        <td>None</td>\n",
              "        <td>None</td>\n",
              "        <td>None</td>\n",
              "        <td>None</td>\n",
              "    </tr>\n",
              "    <tr>\n",
              "        <td>586196</td>\n",
              "        <td>Fenix 3</td>\n",
              "        <td>6/2/19 11:11</td>\n",
              "        <td>None</td>\n",
              "        <td>None</td>\n",
              "        <td>None</td>\n",
              "        <td>None</td>\n",
              "    </tr>\n",
              "    <tr>\n",
              "        <td>797091</td>\n",
              "        <td>Fenix 2</td>\n",
              "        <td>11/23/19 17:36</td>\n",
              "        <td>None</td>\n",
              "        <td>None</td>\n",
              "        <td>None</td>\n",
              "        <td>None</td>\n",
              "    </tr>\n",
              "    <tr>\n",
              "        <td>552403</td>\n",
              "        <td>Fenix Radio +3</td>\n",
              "        <td>5/12/19 10:20</td>\n",
              "        <td>None</td>\n",
              "        <td>None</td>\n",
              "        <td>None</td>\n",
              "        <td>None</td>\n",
              "    </tr>\n",
              "    <tr>\n",
              "        <td>812210</td>\n",
              "        <td>Fenix Power 4 + Woofer BJ</td>\n",
              "        <td>12/4/19 10:53</td>\n",
              "        <td>None</td>\n",
              "        <td>None</td>\n",
              "        <td>None</td>\n",
              "        <td>None</td>\n",
              "    </tr>\n",
              "</table>"
            ],
            "text/plain": [
              "[(589556, 'Fenix 3', '6/5/19 10:45', None, None, None, None),\n",
              " (586196, 'Fenix 3', '6/2/19 11:11', None, None, None, None),\n",
              " (797091, 'Fenix 2', '11/23/19 17:36', None, None, None, None),\n",
              " (552403, 'Fenix Radio +3', '5/12/19 10:20', None, None, None, None),\n",
              " (812210, 'Fenix Power 4 + Woofer BJ', '12/4/19 10:53', None, None, None, None)]"
            ]
          },
          "metadata": {
            "tags": []
          },
          "execution_count": 12
        }
      ]
    },
    {
      "cell_type": "code",
      "metadata": {
        "id": "3q7ewjRrY8RU",
        "colab_type": "code",
        "colab": {
          "base_uri": "https://localhost:8080/",
          "height": 161
        },
        "outputId": "5b6eddb0-3032-4177-ac90-9b9b55029d67"
      },
      "source": [
        "%%sql\n",
        "\n",
        "select * from loans limit 5"
      ],
      "execution_count": 13,
      "outputs": [
        {
          "output_type": "stream",
          "text": [
            " * sqlite:///testdb.sqlite\n",
            "Done.\n"
          ],
          "name": "stdout"
        },
        {
          "output_type": "execute_result",
          "data": {
            "text/html": [
              "<table>\n",
              "    <tr>\n",
              "        <th>loan_id</th>\n",
              "        <th>customer_id</th>\n",
              "        <th>daily_rate</th>\n",
              "        <th>days_elapsed</th>\n",
              "        <th>days_til_lockout</th>\n",
              "        <th>total_paid</th>\n",
              "    </tr>\n",
              "    <tr>\n",
              "        <td>589556</td>\n",
              "        <td>1351176</td>\n",
              "        <td>270</td>\n",
              "        <td>265</td>\n",
              "        <td>-13</td>\n",
              "        <td>52355</td>\n",
              "    </tr>\n",
              "    <tr>\n",
              "        <td>586196</td>\n",
              "        <td>1344957</td>\n",
              "        <td>160</td>\n",
              "        <td>268</td>\n",
              "        <td>-46</td>\n",
              "        <td>24160</td>\n",
              "    </tr>\n",
              "    <tr>\n",
              "        <td>797091</td>\n",
              "        <td>1794153</td>\n",
              "        <td>130</td>\n",
              "        <td>94</td>\n",
              "        <td>6</td>\n",
              "        <td>11000</td>\n",
              "    </tr>\n",
              "    <tr>\n",
              "        <td>552403</td>\n",
              "        <td>1291070</td>\n",
              "        <td>175</td>\n",
              "        <td>225</td>\n",
              "        <td>-120</td>\n",
              "        <td>13825</td>\n",
              "    </tr>\n",
              "    <tr>\n",
              "        <td>812210</td>\n",
              "        <td>1827368</td>\n",
              "        <td>280</td>\n",
              "        <td>83</td>\n",
              "        <td>5</td>\n",
              "        <td>23000</td>\n",
              "    </tr>\n",
              "</table>"
            ],
            "text/plain": [
              "[(589556, 1351176, 270, 265, -13, 52355),\n",
              " (586196, 1344957, 160, 268, -46, 24160),\n",
              " (797091, 1794153, 130, 94, 6, 11000),\n",
              " (552403, 1291070, 175, 225, -120, 13825),\n",
              " (812210, 1827368, 280, 83, 5, 23000)]"
            ]
          },
          "metadata": {
            "tags": []
          },
          "execution_count": 13
        }
      ]
    },
    {
      "cell_type": "markdown",
      "metadata": {
        "id": "F4EqIKEfVSSF",
        "colab_type": "text"
      },
      "source": [
        "### Write a SQL code to determine the total number of loans on the one hand and the total number of customers on the other"
      ]
    },
    {
      "cell_type": "code",
      "metadata": {
        "id": "ZWBmjrOeVSSF",
        "colab_type": "code",
        "colab": {
          "base_uri": "https://localhost:8080/",
          "height": 88
        },
        "outputId": "d46af44c-873a-4d52-ec92-716f5c75d6dd"
      },
      "source": [
        "%%sql\n",
        "--# each loan has a unique id (loan_id), a count of the ids will indicate total number of loans, \n",
        "--# same goes for number of customers\n",
        "select count(loan_id) number_of_loans, count(customer_id) number_of_customers\n",
        "from loans"
      ],
      "execution_count": 14,
      "outputs": [
        {
          "output_type": "stream",
          "text": [
            " * sqlite:///testdb.sqlite\n",
            "Done.\n"
          ],
          "name": "stdout"
        },
        {
          "output_type": "execute_result",
          "data": {
            "text/html": [
              "<table>\n",
              "    <tr>\n",
              "        <th>number_of_loans</th>\n",
              "        <th>number_of_customers</th>\n",
              "    </tr>\n",
              "    <tr>\n",
              "        <td>5000</td>\n",
              "        <td>5000</td>\n",
              "    </tr>\n",
              "</table>"
            ],
            "text/plain": [
              "[(5000, 5000)]"
            ]
          },
          "metadata": {
            "tags": []
          },
          "execution_count": 14
        }
      ]
    },
    {
      "cell_type": "markdown",
      "metadata": {
        "id": "LDo6lRy5VSSJ",
        "colab_type": "text"
      },
      "source": [
        "### Write a SQL code to determine the total number of loans by type of kit"
      ]
    },
    {
      "cell_type": "code",
      "metadata": {
        "id": "Q31wG25uVSSJ",
        "colab_type": "code",
        "colab": {
          "base_uri": "https://localhost:8080/",
          "height": 396
        },
        "outputId": "9bfa3028-22d6-4dc9-eccf-74be04b73b0a"
      },
      "source": [
        "%%sql\n",
        "\n",
        "select s.product_type type_of_kit, count(l.loan_id) number_of_loans\n",
        "from loans as l\n",
        "join sales as s on l.loan_id = s.loan_id \n",
        "group by s.product_type\n",
        "order by count(l.loan_id) desc"
      ],
      "execution_count": 15,
      "outputs": [
        {
          "output_type": "stream",
          "text": [
            " * sqlite:///testdb.sqlite\n",
            "Done.\n"
          ],
          "name": "stdout"
        },
        {
          "output_type": "execute_result",
          "data": {
            "text/html": [
              "<table>\n",
              "    <tr>\n",
              "        <th>type_of_kit</th>\n",
              "        <th>number_of_loans</th>\n",
              "    </tr>\n",
              "    <tr>\n",
              "        <td>Fenix Radio +3</td>\n",
              "        <td>1791</td>\n",
              "    </tr>\n",
              "    <tr>\n",
              "        <td>Fenix 3</td>\n",
              "        <td>974</td>\n",
              "    </tr>\n",
              "    <tr>\n",
              "        <td>Fenix 2</td>\n",
              "        <td>841</td>\n",
              "    </tr>\n",
              "    <tr>\n",
              "        <td>Fenix Power TV 24in FTA BJ</td>\n",
              "        <td>634</td>\n",
              "    </tr>\n",
              "    <tr>\n",
              "        <td>Fenix Radio +5</td>\n",
              "        <td>422</td>\n",
              "    </tr>\n",
              "    <tr>\n",
              "        <td>Fenix Power TV 24in FTA Upgrade, BJ</td>\n",
              "        <td>177</td>\n",
              "    </tr>\n",
              "    <tr>\n",
              "        <td>Fenix Power 4 + Woofer BJ</td>\n",
              "        <td>35</td>\n",
              "    </tr>\n",
              "    <tr>\n",
              "        <td>Fenix Woofer +3</td>\n",
              "        <td>32</td>\n",
              "    </tr>\n",
              "    <tr>\n",
              "        <td>Fenix Power TV 19in FTA Upgrade, BJ</td>\n",
              "        <td>28</td>\n",
              "    </tr>\n",
              "    <tr>\n",
              "        <td>Fenix Power 2+ Tondeuse</td>\n",
              "        <td>18</td>\n",
              "    </tr>\n",
              "    <tr>\n",
              "        <td>Fenix Power TV 19in FTA BJ</td>\n",
              "        <td>14</td>\n",
              "    </tr>\n",
              "    <tr>\n",
              "        <td>Hors Garantie BJ</td>\n",
              "        <td>14</td>\n",
              "    </tr>\n",
              "    <tr>\n",
              "        <td>Fenix Woofer +3 (NEW)</td>\n",
              "        <td>8</td>\n",
              "    </tr>\n",
              "    <tr>\n",
              "        <td>Upgrade Fenix Radio +3</td>\n",
              "        <td>5</td>\n",
              "    </tr>\n",
              "    <tr>\n",
              "        <td>Out-of-warranty swap - SmartLife</td>\n",
              "        <td>2</td>\n",
              "    </tr>\n",
              "    <tr>\n",
              "        <td>Upgrade Fenix Boost 2 + Tondeuse</td>\n",
              "        <td>2</td>\n",
              "    </tr>\n",
              "    <tr>\n",
              "        <td>Upgrade Fenix Woofer+2 BJ</td>\n",
              "        <td>2</td>\n",
              "    </tr>\n",
              "    <tr>\n",
              "        <td>Upgrade Fenix Woofer +1</td>\n",
              "        <td>1</td>\n",
              "    </tr>\n",
              "</table>"
            ],
            "text/plain": [
              "[('Fenix Radio +3', 1791),\n",
              " ('Fenix 3', 974),\n",
              " ('Fenix 2', 841),\n",
              " ('Fenix Power TV 24in FTA BJ', 634),\n",
              " ('Fenix Radio +5', 422),\n",
              " ('Fenix Power TV 24in FTA Upgrade, BJ', 177),\n",
              " ('Fenix Power 4 + Woofer BJ', 35),\n",
              " ('Fenix Woofer +3', 32),\n",
              " ('Fenix Power TV 19in FTA Upgrade, BJ', 28),\n",
              " ('Fenix Power 2+ Tondeuse', 18),\n",
              " ('Fenix Power TV 19in FTA BJ', 14),\n",
              " ('Hors Garantie BJ', 14),\n",
              " ('Fenix Woofer +3 (NEW)', 8),\n",
              " ('Upgrade Fenix Radio +3', 5),\n",
              " ('Out-of-warranty swap - SmartLife', 2),\n",
              " ('Upgrade Fenix Boost 2 + Tondeuse', 2),\n",
              " ('Upgrade Fenix Woofer+2 BJ', 2),\n",
              " ('Upgrade Fenix Woofer +1', 1)]"
            ]
          },
          "metadata": {
            "tags": []
          },
          "execution_count": 15
        }
      ]
    },
    {
      "cell_type": "markdown",
      "metadata": {
        "id": "MyAp6AuoVSSN",
        "colab_type": "text"
      },
      "source": [
        "### Write SQL code to determine the number of inactive loans"
      ]
    },
    {
      "cell_type": "code",
      "metadata": {
        "id": "uNfbiaROVSSN",
        "colab_type": "code",
        "colab": {
          "base_uri": "https://localhost:8080/",
          "height": 88
        },
        "outputId": "35d56de7-788e-4714-ff7d-2a2497e89d50"
      },
      "source": [
        "%%sql\n",
        "--# inactive loans are indicated by 30 days or more in the dark\n",
        "\n",
        "select count(loan_id) no_of_inactive_loans\n",
        "from loans\n",
        "where days_til_lockout < -30"
      ],
      "execution_count": 16,
      "outputs": [
        {
          "output_type": "stream",
          "text": [
            " * sqlite:///testdb.sqlite\n",
            "Done.\n"
          ],
          "name": "stdout"
        },
        {
          "output_type": "execute_result",
          "data": {
            "text/html": [
              "<table>\n",
              "    <tr>\n",
              "        <th>no_of_inactive_loans</th>\n",
              "    </tr>\n",
              "    <tr>\n",
              "        <td>626</td>\n",
              "    </tr>\n",
              "</table>"
            ],
            "text/plain": [
              "[(626,)]"
            ]
          },
          "metadata": {
            "tags": []
          },
          "execution_count": 16
        }
      ]
    },
    {
      "cell_type": "markdown",
      "metadata": {
        "id": "8akfwFVoVSSQ",
        "colab_type": "text"
      },
      "source": [
        "### Write a SQL code to determine the regions where the total amount of payments exceeds 1,000,000"
      ]
    },
    {
      "cell_type": "code",
      "metadata": {
        "id": "4_rJ4cPVVSSR",
        "colab_type": "code",
        "colab": {
          "base_uri": "https://localhost:8080/",
          "height": 288
        },
        "outputId": "6e3e14df-8913-409e-f94a-329f0e199ce0"
      },
      "source": [
        "%%sql\n",
        "\n",
        "select p.region, sum(l.total_paid) total_payments\n",
        "from persons as p\n",
        "join loans as l on p.customer_id = l.customer_id \n",
        "group by p.region\n",
        "having sum(l.total_paid) > 1000000\n",
        "order by sum(l.total_paid) desc"
      ],
      "execution_count": 17,
      "outputs": [
        {
          "output_type": "stream",
          "text": [
            " * sqlite:///testdb.sqlite\n",
            "Done.\n"
          ],
          "name": "stdout"
        },
        {
          "output_type": "execute_result",
          "data": {
            "text/html": [
              "<table>\n",
              "    <tr>\n",
              "        <th>region</th>\n",
              "        <th>total_payments</th>\n",
              "    </tr>\n",
              "    <tr>\n",
              "        <td>Atlantique</td>\n",
              "        <td>51293780</td>\n",
              "    </tr>\n",
              "    <tr>\n",
              "        <td>Oueme</td>\n",
              "        <td>30027194</td>\n",
              "    </tr>\n",
              "    <tr>\n",
              "        <td>Borgou</td>\n",
              "        <td>18947292</td>\n",
              "    </tr>\n",
              "    <tr>\n",
              "        <td>Collines</td>\n",
              "        <td>11904427</td>\n",
              "    </tr>\n",
              "    <tr>\n",
              "        <td>Mono</td>\n",
              "        <td>11621621</td>\n",
              "    </tr>\n",
              "    <tr>\n",
              "        <td>Donga</td>\n",
              "        <td>9936982</td>\n",
              "    </tr>\n",
              "    <tr>\n",
              "        <td>Plateau</td>\n",
              "        <td>9691206</td>\n",
              "    </tr>\n",
              "    <tr>\n",
              "        <td>Zou</td>\n",
              "        <td>9540211</td>\n",
              "    </tr>\n",
              "    <tr>\n",
              "        <td>Alibori</td>\n",
              "        <td>8559985</td>\n",
              "    </tr>\n",
              "    <tr>\n",
              "        <td>Atacora</td>\n",
              "        <td>7802685</td>\n",
              "    </tr>\n",
              "    <tr>\n",
              "        <td>Couffo</td>\n",
              "        <td>4812070</td>\n",
              "    </tr>\n",
              "    <tr>\n",
              "        <td>Littoral</td>\n",
              "        <td>3980519</td>\n",
              "    </tr>\n",
              "</table>"
            ],
            "text/plain": [
              "[('Atlantique', 51293780),\n",
              " ('Oueme', 30027194),\n",
              " ('Borgou', 18947292),\n",
              " ('Collines', 11904427),\n",
              " ('Mono', 11621621),\n",
              " ('Donga', 9936982),\n",
              " ('Plateau', 9691206),\n",
              " ('Zou', 9540211),\n",
              " ('Alibori', 8559985),\n",
              " ('Atacora', 7802685),\n",
              " ('Couffo', 4812070),\n",
              " ('Littoral', 3980519)]"
            ]
          },
          "metadata": {
            "tags": []
          },
          "execution_count": 17
        }
      ]
    },
    {
      "cell_type": "markdown",
      "metadata": {
        "id": "GBoarA5MVSST",
        "colab_type": "text"
      },
      "source": [
        "### Write a SQL code to classify by region and in ascending order, the loans according to the total amount paid"
      ]
    },
    {
      "cell_type": "code",
      "metadata": {
        "id": "n5PCYw3rVSST",
        "colab_type": "code",
        "colab": {
          "base_uri": "https://localhost:8080/",
          "height": 288
        },
        "outputId": "324502f5-04bb-48b3-fa36-c5f7cca627e8"
      },
      "source": [
        "%%sql\n",
        "\n",
        "select p.region, sum(l.total_paid) sum_of_total_paid \n",
        "from persons as p\n",
        "join loans as l on p.customer_id = l.customer_id \n",
        "group by p.region\n",
        "order by sum(l.total_paid) asc"
      ],
      "execution_count": 18,
      "outputs": [
        {
          "output_type": "stream",
          "text": [
            " * sqlite:///testdb.sqlite\n",
            "Done.\n"
          ],
          "name": "stdout"
        },
        {
          "output_type": "execute_result",
          "data": {
            "text/html": [
              "<table>\n",
              "    <tr>\n",
              "        <th>region</th>\n",
              "        <th>sum_of_total_paid</th>\n",
              "    </tr>\n",
              "    <tr>\n",
              "        <td>Littoral</td>\n",
              "        <td>3980519</td>\n",
              "    </tr>\n",
              "    <tr>\n",
              "        <td>Couffo</td>\n",
              "        <td>4812070</td>\n",
              "    </tr>\n",
              "    <tr>\n",
              "        <td>Atacora</td>\n",
              "        <td>7802685</td>\n",
              "    </tr>\n",
              "    <tr>\n",
              "        <td>Alibori</td>\n",
              "        <td>8559985</td>\n",
              "    </tr>\n",
              "    <tr>\n",
              "        <td>Zou</td>\n",
              "        <td>9540211</td>\n",
              "    </tr>\n",
              "    <tr>\n",
              "        <td>Plateau</td>\n",
              "        <td>9691206</td>\n",
              "    </tr>\n",
              "    <tr>\n",
              "        <td>Donga</td>\n",
              "        <td>9936982</td>\n",
              "    </tr>\n",
              "    <tr>\n",
              "        <td>Mono</td>\n",
              "        <td>11621621</td>\n",
              "    </tr>\n",
              "    <tr>\n",
              "        <td>Collines</td>\n",
              "        <td>11904427</td>\n",
              "    </tr>\n",
              "    <tr>\n",
              "        <td>Borgou</td>\n",
              "        <td>18947292</td>\n",
              "    </tr>\n",
              "    <tr>\n",
              "        <td>Oueme</td>\n",
              "        <td>30027194</td>\n",
              "    </tr>\n",
              "    <tr>\n",
              "        <td>Atlantique</td>\n",
              "        <td>51293780</td>\n",
              "    </tr>\n",
              "</table>"
            ],
            "text/plain": [
              "[('Littoral', 3980519),\n",
              " ('Couffo', 4812070),\n",
              " ('Atacora', 7802685),\n",
              " ('Alibori', 8559985),\n",
              " ('Zou', 9540211),\n",
              " ('Plateau', 9691206),\n",
              " ('Donga', 9936982),\n",
              " ('Mono', 11621621),\n",
              " ('Collines', 11904427),\n",
              " ('Borgou', 18947292),\n",
              " ('Oueme', 30027194),\n",
              " ('Atlantique', 51293780)]"
            ]
          },
          "metadata": {
            "tags": []
          },
          "execution_count": 18
        }
      ]
    },
    {
      "cell_type": "markdown",
      "metadata": {
        "id": "0r8qsCicVSSV",
        "colab_type": "text"
      },
      "source": [
        "\n",
        "### Write a SQL code to determine the top 10 occupations by region with the highest total amount of payments"
      ]
    },
    {
      "cell_type": "code",
      "metadata": {
        "id": "VKGKaVgIVSSW",
        "colab_type": "code",
        "colab": {
          "base_uri": "https://localhost:8080/",
          "height": 215
        },
        "outputId": "ae6e6e0e-08f4-465f-fef1-021be2e584e1"
      },
      "source": [
        "%%sql\n",
        "pragma table_info('persons');"
      ],
      "execution_count": 19,
      "outputs": [
        {
          "output_type": "stream",
          "text": [
            " * sqlite:///testdb.sqlite\n",
            "Done.\n"
          ],
          "name": "stdout"
        },
        {
          "output_type": "execute_result",
          "data": {
            "text/html": [
              "<table>\n",
              "    <tr>\n",
              "        <th>cid</th>\n",
              "        <th>name</th>\n",
              "        <th>type</th>\n",
              "        <th>notnull</th>\n",
              "        <th>dflt_value</th>\n",
              "        <th>pk</th>\n",
              "    </tr>\n",
              "    <tr>\n",
              "        <td>0</td>\n",
              "        <td>customer_id</td>\n",
              "        <td>INTEGER</td>\n",
              "        <td>0</td>\n",
              "        <td>None</td>\n",
              "        <td>0</td>\n",
              "    </tr>\n",
              "    <tr>\n",
              "        <td>1</td>\n",
              "        <td>country</td>\n",
              "        <td>TEXT</td>\n",
              "        <td>0</td>\n",
              "        <td>None</td>\n",
              "        <td>0</td>\n",
              "    </tr>\n",
              "    <tr>\n",
              "        <td>2</td>\n",
              "        <td>region</td>\n",
              "        <td>TEXT</td>\n",
              "        <td>0</td>\n",
              "        <td>None</td>\n",
              "        <td>0</td>\n",
              "    </tr>\n",
              "    <tr>\n",
              "        <td>3</td>\n",
              "        <td>Profession </td>\n",
              "        <td>TEXT</td>\n",
              "        <td>0</td>\n",
              "        <td>None</td>\n",
              "        <td>0</td>\n",
              "    </tr>\n",
              "    <tr>\n",
              "        <td>4</td>\n",
              "        <td>Unnamed: 4</td>\n",
              "        <td>REAL</td>\n",
              "        <td>0</td>\n",
              "        <td>None</td>\n",
              "        <td>0</td>\n",
              "    </tr>\n",
              "    <tr>\n",
              "        <td>5</td>\n",
              "        <td>Unnamed: 5</td>\n",
              "        <td>REAL</td>\n",
              "        <td>0</td>\n",
              "        <td>None</td>\n",
              "        <td>0</td>\n",
              "    </tr>\n",
              "    <tr>\n",
              "        <td>6</td>\n",
              "        <td>Unnamed: 6</td>\n",
              "        <td>REAL</td>\n",
              "        <td>0</td>\n",
              "        <td>None</td>\n",
              "        <td>0</td>\n",
              "    </tr>\n",
              "    <tr>\n",
              "        <td>7</td>\n",
              "        <td>Unnamed: 7</td>\n",
              "        <td>REAL</td>\n",
              "        <td>0</td>\n",
              "        <td>None</td>\n",
              "        <td>0</td>\n",
              "    </tr>\n",
              "</table>"
            ],
            "text/plain": [
              "[(0, 'customer_id', 'INTEGER', 0, None, 0),\n",
              " (1, 'country', 'TEXT', 0, None, 0),\n",
              " (2, 'region', 'TEXT', 0, None, 0),\n",
              " (3, 'Profession ', 'TEXT', 0, None, 0),\n",
              " (4, 'Unnamed: 4', 'REAL', 0, None, 0),\n",
              " (5, 'Unnamed: 5', 'REAL', 0, None, 0),\n",
              " (6, 'Unnamed: 6', 'REAL', 0, None, 0),\n",
              " (7, 'Unnamed: 7', 'REAL', 0, None, 0)]"
            ]
          },
          "metadata": {
            "tags": []
          },
          "execution_count": 19
        }
      ]
    }
  ]
}